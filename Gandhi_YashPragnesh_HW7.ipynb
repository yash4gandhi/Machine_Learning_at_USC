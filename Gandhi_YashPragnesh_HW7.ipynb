{
 "cells": [
  {
   "cell_type": "markdown",
   "metadata": {},
   "source": [
    "<H2> Yash Pragnesh Gandhi <br><br> Github id: yash4gandhi <br><br> USC ID: 1150578261"
   ]
  },
  {
   "cell_type": "code",
   "execution_count": 1,
   "metadata": {},
   "outputs": [],
   "source": [
    "import numpy as np\n",
    "import pandas as pd\n",
    "import matplotlib.pyplot as plt\n",
    "import seaborn as sns\n",
    "%matplotlib inline\n",
    "import warnings\n",
    "warnings.filterwarnings(\"ignore\")"
   ]
  },
  {
   "cell_type": "code",
   "execution_count": 2,
   "metadata": {},
   "outputs": [],
   "source": [
    "from sklearn.model_selection import train_test_split, GridSearchCV, KFold\n",
    "from sklearn.svm import SVC,LinearSVC"
   ]
  },
  {
   "cell_type": "code",
   "execution_count": 97,
   "metadata": {},
   "outputs": [],
   "source": [
    "from sklearn.metrics import hamming_loss, accuracy_score, silhouette_score, calinski_harabasz_score\n",
    "from sklearn import preprocessing\n",
    "from imblearn.over_sampling import SMOTE\n",
    "from sklearn.cluster import KMeans\n"
   ]
  },
  {
   "cell_type": "markdown",
   "metadata": {},
   "source": [
    "<h3>1. Multi-class and Multi-Label Classification Using Support Vector Machines\n",
    "(a) Download the Anuran Calls (MFCCs) Data Set from: https://archive.ics.\n",
    "uci.edu/ml/datasets/Anuran+Calls+%28MFCCs%29. Choose 70% of the data\n",
    "randomly as the training set"
   ]
  },
  {
   "cell_type": "code",
   "execution_count": 27,
   "metadata": {},
   "outputs": [],
   "source": [
    "df = pd.read_csv('../data/Anuran Calls (MFCCs)/Frogs_MFCCs.csv')"
   ]
  },
  {
   "cell_type": "code",
   "execution_count": 28,
   "metadata": {},
   "outputs": [
    {
     "data": {
      "text/html": [
       "<div>\n",
       "<style scoped>\n",
       "    .dataframe tbody tr th:only-of-type {\n",
       "        vertical-align: middle;\n",
       "    }\n",
       "\n",
       "    .dataframe tbody tr th {\n",
       "        vertical-align: top;\n",
       "    }\n",
       "\n",
       "    .dataframe thead th {\n",
       "        text-align: right;\n",
       "    }\n",
       "</style>\n",
       "<table border=\"1\" class=\"dataframe\">\n",
       "  <thead>\n",
       "    <tr style=\"text-align: right;\">\n",
       "      <th></th>\n",
       "      <th>MFCCs_ 1</th>\n",
       "      <th>MFCCs_ 2</th>\n",
       "      <th>MFCCs_ 3</th>\n",
       "      <th>MFCCs_ 4</th>\n",
       "      <th>MFCCs_ 5</th>\n",
       "      <th>MFCCs_ 6</th>\n",
       "      <th>MFCCs_ 7</th>\n",
       "      <th>MFCCs_ 8</th>\n",
       "      <th>MFCCs_ 9</th>\n",
       "      <th>MFCCs_10</th>\n",
       "      <th>...</th>\n",
       "      <th>MFCCs_17</th>\n",
       "      <th>MFCCs_18</th>\n",
       "      <th>MFCCs_19</th>\n",
       "      <th>MFCCs_20</th>\n",
       "      <th>MFCCs_21</th>\n",
       "      <th>MFCCs_22</th>\n",
       "      <th>Family</th>\n",
       "      <th>Genus</th>\n",
       "      <th>Species</th>\n",
       "      <th>RecordID</th>\n",
       "    </tr>\n",
       "  </thead>\n",
       "  <tbody>\n",
       "    <tr>\n",
       "      <th>0</th>\n",
       "      <td>1.0</td>\n",
       "      <td>0.152936</td>\n",
       "      <td>-0.105586</td>\n",
       "      <td>0.200722</td>\n",
       "      <td>0.317201</td>\n",
       "      <td>0.260764</td>\n",
       "      <td>0.100945</td>\n",
       "      <td>-0.150063</td>\n",
       "      <td>-0.171128</td>\n",
       "      <td>0.124676</td>\n",
       "      <td>...</td>\n",
       "      <td>-0.108351</td>\n",
       "      <td>-0.077623</td>\n",
       "      <td>-0.009568</td>\n",
       "      <td>0.057684</td>\n",
       "      <td>0.118680</td>\n",
       "      <td>0.014038</td>\n",
       "      <td>Leptodactylidae</td>\n",
       "      <td>Adenomera</td>\n",
       "      <td>AdenomeraAndre</td>\n",
       "      <td>1</td>\n",
       "    </tr>\n",
       "    <tr>\n",
       "      <th>1</th>\n",
       "      <td>1.0</td>\n",
       "      <td>0.171534</td>\n",
       "      <td>-0.098975</td>\n",
       "      <td>0.268425</td>\n",
       "      <td>0.338672</td>\n",
       "      <td>0.268353</td>\n",
       "      <td>0.060835</td>\n",
       "      <td>-0.222475</td>\n",
       "      <td>-0.207693</td>\n",
       "      <td>0.170883</td>\n",
       "      <td>...</td>\n",
       "      <td>-0.090974</td>\n",
       "      <td>-0.056510</td>\n",
       "      <td>-0.035303</td>\n",
       "      <td>0.020140</td>\n",
       "      <td>0.082263</td>\n",
       "      <td>0.029056</td>\n",
       "      <td>Leptodactylidae</td>\n",
       "      <td>Adenomera</td>\n",
       "      <td>AdenomeraAndre</td>\n",
       "      <td>1</td>\n",
       "    </tr>\n",
       "    <tr>\n",
       "      <th>2</th>\n",
       "      <td>1.0</td>\n",
       "      <td>0.152317</td>\n",
       "      <td>-0.082973</td>\n",
       "      <td>0.287128</td>\n",
       "      <td>0.276014</td>\n",
       "      <td>0.189867</td>\n",
       "      <td>0.008714</td>\n",
       "      <td>-0.242234</td>\n",
       "      <td>-0.219153</td>\n",
       "      <td>0.232538</td>\n",
       "      <td>...</td>\n",
       "      <td>-0.050691</td>\n",
       "      <td>-0.023590</td>\n",
       "      <td>-0.066722</td>\n",
       "      <td>-0.025083</td>\n",
       "      <td>0.099108</td>\n",
       "      <td>0.077162</td>\n",
       "      <td>Leptodactylidae</td>\n",
       "      <td>Adenomera</td>\n",
       "      <td>AdenomeraAndre</td>\n",
       "      <td>1</td>\n",
       "    </tr>\n",
       "    <tr>\n",
       "      <th>3</th>\n",
       "      <td>1.0</td>\n",
       "      <td>0.224392</td>\n",
       "      <td>0.118985</td>\n",
       "      <td>0.329432</td>\n",
       "      <td>0.372088</td>\n",
       "      <td>0.361005</td>\n",
       "      <td>0.015501</td>\n",
       "      <td>-0.194347</td>\n",
       "      <td>-0.098181</td>\n",
       "      <td>0.270375</td>\n",
       "      <td>...</td>\n",
       "      <td>-0.136009</td>\n",
       "      <td>-0.177037</td>\n",
       "      <td>-0.130498</td>\n",
       "      <td>-0.054766</td>\n",
       "      <td>-0.018691</td>\n",
       "      <td>0.023954</td>\n",
       "      <td>Leptodactylidae</td>\n",
       "      <td>Adenomera</td>\n",
       "      <td>AdenomeraAndre</td>\n",
       "      <td>1</td>\n",
       "    </tr>\n",
       "    <tr>\n",
       "      <th>4</th>\n",
       "      <td>1.0</td>\n",
       "      <td>0.087817</td>\n",
       "      <td>-0.068345</td>\n",
       "      <td>0.306967</td>\n",
       "      <td>0.330923</td>\n",
       "      <td>0.249144</td>\n",
       "      <td>0.006884</td>\n",
       "      <td>-0.265423</td>\n",
       "      <td>-0.172700</td>\n",
       "      <td>0.266434</td>\n",
       "      <td>...</td>\n",
       "      <td>-0.048885</td>\n",
       "      <td>-0.053074</td>\n",
       "      <td>-0.088550</td>\n",
       "      <td>-0.031346</td>\n",
       "      <td>0.108610</td>\n",
       "      <td>0.079244</td>\n",
       "      <td>Leptodactylidae</td>\n",
       "      <td>Adenomera</td>\n",
       "      <td>AdenomeraAndre</td>\n",
       "      <td>1</td>\n",
       "    </tr>\n",
       "  </tbody>\n",
       "</table>\n",
       "<p>5 rows × 26 columns</p>\n",
       "</div>"
      ],
      "text/plain": [
       "   MFCCs_ 1  MFCCs_ 2  MFCCs_ 3  MFCCs_ 4  MFCCs_ 5  MFCCs_ 6  MFCCs_ 7  \\\n",
       "0       1.0  0.152936 -0.105586  0.200722  0.317201  0.260764  0.100945   \n",
       "1       1.0  0.171534 -0.098975  0.268425  0.338672  0.268353  0.060835   \n",
       "2       1.0  0.152317 -0.082973  0.287128  0.276014  0.189867  0.008714   \n",
       "3       1.0  0.224392  0.118985  0.329432  0.372088  0.361005  0.015501   \n",
       "4       1.0  0.087817 -0.068345  0.306967  0.330923  0.249144  0.006884   \n",
       "\n",
       "   MFCCs_ 8  MFCCs_ 9  MFCCs_10  ...  MFCCs_17  MFCCs_18  MFCCs_19  MFCCs_20  \\\n",
       "0 -0.150063 -0.171128  0.124676  ... -0.108351 -0.077623 -0.009568  0.057684   \n",
       "1 -0.222475 -0.207693  0.170883  ... -0.090974 -0.056510 -0.035303  0.020140   \n",
       "2 -0.242234 -0.219153  0.232538  ... -0.050691 -0.023590 -0.066722 -0.025083   \n",
       "3 -0.194347 -0.098181  0.270375  ... -0.136009 -0.177037 -0.130498 -0.054766   \n",
       "4 -0.265423 -0.172700  0.266434  ... -0.048885 -0.053074 -0.088550 -0.031346   \n",
       "\n",
       "   MFCCs_21  MFCCs_22           Family      Genus         Species  RecordID  \n",
       "0  0.118680  0.014038  Leptodactylidae  Adenomera  AdenomeraAndre         1  \n",
       "1  0.082263  0.029056  Leptodactylidae  Adenomera  AdenomeraAndre         1  \n",
       "2  0.099108  0.077162  Leptodactylidae  Adenomera  AdenomeraAndre         1  \n",
       "3 -0.018691  0.023954  Leptodactylidae  Adenomera  AdenomeraAndre         1  \n",
       "4  0.108610  0.079244  Leptodactylidae  Adenomera  AdenomeraAndre         1  \n",
       "\n",
       "[5 rows x 26 columns]"
      ]
     },
     "execution_count": 28,
     "metadata": {},
     "output_type": "execute_result"
    }
   ],
   "source": [
    "df.head()"
   ]
  },
  {
   "cell_type": "code",
   "execution_count": 29,
   "metadata": {},
   "outputs": [],
   "source": [
    "l = list(df.columns)\n",
    "l.remove('Family')\n",
    "l.remove('Genus')\n",
    "l.remove('Species')\n",
    "l.remove('RecordID')"
   ]
  },
  {
   "cell_type": "code",
   "execution_count": 30,
   "metadata": {},
   "outputs": [],
   "source": [
    "train,test = train_test_split(df,train_size=0.7, random_state = 15)"
   ]
  },
  {
   "cell_type": "markdown",
   "metadata": {},
   "source": [
    "<h3>b) Each instance has three labels: Families, Genus, and Species. Each of the labels\n",
    "has multiple classes. We wish to solve a multi-class and multi-label problem.\n",
    "One of the most important approaches to multi-label classification is to train a\n",
    "classifier for each label (binary relevance). We first try this approach:<br>\n",
    "i. Research exact match and hamming score/ loss methods for evaluating multi-\n",
    "label classification and use them in evaluating the classifiers in this problem."
   ]
  },
  {
   "cell_type": "markdown",
   "metadata": {},
   "source": [
    "Exact Match Loss refers to the ratio of number of incorrectly predicted classes to total number of points in the dataset.<br>\n",
    "Hamming Loss refers to the average hamming distance. Hamming distance is the number of incorrect labels between two samples"
   ]
  },
  {
   "cell_type": "markdown",
   "metadata": {},
   "source": [
    "<h3>ii. Train a SVM for each of the labels, using Gaussian kernels and one versus\n",
    "all classifiers. Determine the weight of the SVM penalty and the width of\n",
    "the Gaussian Kernel using 10 fold cross validation.1 You are welcome to try\n",
    "to solve the problem with both standardized 2 and raw attributes and report\n",
    "the results."
   ]
  },
  {
   "cell_type": "markdown",
   "metadata": {},
   "source": [
    "<h4> References:<br></h4>\n",
    "https://scikit-learn.org/stable/modules/generated/sklearn.model_selection.GridSearchCV.html<br>\n",
    "https://scikit-learn.org/stable/auto_examples/svm/plot_rbf_parameters.html<br>\n",
    "https://machinelearningmastery.com/one-vs-rest-and-one-vs-one-for-multi-class-classification/<br>\n",
    "https://scikit-learn.org/stable/modules/generated/sklearn.svm.LinearSVC.html<br>"
   ]
  },
  {
   "cell_type": "markdown",
   "metadata": {},
   "source": [
    "<h3>SVM Classification for Family label"
   ]
  },
  {
   "cell_type": "code",
   "execution_count": 31,
   "metadata": {},
   "outputs": [],
   "source": [
    "train_X = train[l]\n",
    "test_X = test[l]\n",
    "train_y = train[['Family']]\n",
    "test_y = test[['Family']]"
   ]
  },
  {
   "cell_type": "code",
   "execution_count": 39,
   "metadata": {
    "scrolled": true
   },
   "outputs": [
    {
     "data": {
      "text/plain": [
       "GridSearchCV(cv=KFold(n_splits=10, random_state=None, shuffle=False),\n",
       "             estimator=SVC(),\n",
       "             param_grid={'C': array([1.        , 1.22222222, 1.44444444, 1.66666667, 1.88888889,\n",
       "       2.11111111, 2.33333333, 2.55555556, 2.77777778, 3.        ]),\n",
       "                         'gamma': array([0.1       , 0.31111111, 0.52222222, 0.73333333, 0.94444444,\n",
       "       1.15555556, 1.36666667, 1.57777778, 1.78888889, 2.        ])})"
      ]
     },
     "execution_count": 39,
     "metadata": {},
     "output_type": "execute_result"
    }
   ],
   "source": [
    "param_set = {'C': np.linspace(1, 3, 10), 'gamma' : np.linspace(0.1, 2, 10)}\n",
    "gs = GridSearchCV(SVC(kernel='rbf',decision_function_shape = 'ovr'), param_grid = param_set , cv = KFold(10))\n",
    "gs.fit(train_X, train_y)"
   ]
  },
  {
   "cell_type": "code",
   "execution_count": 40,
   "metadata": {},
   "outputs": [
    {
     "name": "stdout",
     "output_type": "stream",
     "text": [
      "Best C:  3.0\n"
     ]
    }
   ],
   "source": [
    "print('Best C: ',gs.best_params_['C'])"
   ]
  },
  {
   "cell_type": "code",
   "execution_count": 41,
   "metadata": {},
   "outputs": [
    {
     "name": "stdout",
     "output_type": "stream",
     "text": [
      "Best gamma:  2.0\n"
     ]
    }
   ],
   "source": [
    "print('Best gamma: ',gs.best_params_['gamma'])"
   ]
  },
  {
   "cell_type": "code",
   "execution_count": 42,
   "metadata": {},
   "outputs": [
    {
     "name": "stdout",
     "output_type": "stream",
     "text": [
      "Accuracy : 0.9893469198703103\n",
      "Exact match Loss: 0.010653080129689685\n",
      "Hamming Loss: 0.010653080129689671\n"
     ]
    }
   ],
   "source": [
    "pred_y = gs.predict(test_X)\n",
    "accuracy = accuracy_score(test_y, pred_y)\n",
    "hammingloss = hamming_loss(test_y, pred_y)\n",
    "print('Accuracy :',accuracy)\n",
    "print('Exact match Loss:', 1-accuracy)\n",
    "print('Hamming Loss:', hammingloss)"
   ]
  },
  {
   "cell_type": "markdown",
   "metadata": {},
   "source": [
    "<h3>SVM Classification for Genus label"
   ]
  },
  {
   "cell_type": "code",
   "execution_count": 43,
   "metadata": {},
   "outputs": [],
   "source": [
    "train_y = train[['Genus']]\n",
    "test_y = test[['Genus']]"
   ]
  },
  {
   "cell_type": "code",
   "execution_count": 44,
   "metadata": {},
   "outputs": [
    {
     "data": {
      "text/plain": [
       "GridSearchCV(cv=KFold(n_splits=10, random_state=None, shuffle=False),\n",
       "             estimator=SVC(),\n",
       "             param_grid={'C': array([1.        , 1.22222222, 1.44444444, 1.66666667, 1.88888889,\n",
       "       2.11111111, 2.33333333, 2.55555556, 2.77777778, 3.        ]),\n",
       "                         'gamma': array([0.1       , 0.31111111, 0.52222222, 0.73333333, 0.94444444,\n",
       "       1.15555556, 1.36666667, 1.57777778, 1.78888889, 2.        ])})"
      ]
     },
     "execution_count": 44,
     "metadata": {},
     "output_type": "execute_result"
    }
   ],
   "source": [
    "param_set = {'C': np.linspace(1, 3, 10), 'gamma' : np.linspace(0.1, 2, 10)}\n",
    "gs = GridSearchCV(SVC(kernel='rbf',decision_function_shape = 'ovr'), param_set , cv = KFold(10))\n",
    "gs.fit(train_X, train_y)"
   ]
  },
  {
   "cell_type": "code",
   "execution_count": 45,
   "metadata": {},
   "outputs": [
    {
     "name": "stdout",
     "output_type": "stream",
     "text": [
      "Best C:  3.0\n"
     ]
    }
   ],
   "source": [
    "print('Best C: ',gs.best_params_['C'])"
   ]
  },
  {
   "cell_type": "code",
   "execution_count": 46,
   "metadata": {},
   "outputs": [
    {
     "name": "stdout",
     "output_type": "stream",
     "text": [
      "Best gamma:  1.788888888888889\n"
     ]
    }
   ],
   "source": [
    "print('Best gamma: ',gs.best_params_['gamma'])"
   ]
  },
  {
   "cell_type": "code",
   "execution_count": 48,
   "metadata": {},
   "outputs": [
    {
     "name": "stdout",
     "output_type": "stream",
     "text": [
      "Accuracy : 0.9884205650764243\n",
      "Exact match Loss: 0.011579434923575715\n",
      "Hamming Loss: 0.01157943492357573\n"
     ]
    }
   ],
   "source": [
    "pred_y = gs.predict(test_X)\n",
    "accuracy = accuracy_score(test_y, pred_y)\n",
    "hammingloss = hamming_loss(test_y, pred_y)\n",
    "print('Accuracy :',accuracy)\n",
    "print('Exact match Loss:', 1-accuracy)\n",
    "print('Hamming Loss:', hammingloss)"
   ]
  },
  {
   "cell_type": "markdown",
   "metadata": {},
   "source": [
    "<h3>SVM Classification for Species label"
   ]
  },
  {
   "cell_type": "code",
   "execution_count": 49,
   "metadata": {},
   "outputs": [],
   "source": [
    "train_y = train[['Species']]\n",
    "test_y = test[['Species']]"
   ]
  },
  {
   "cell_type": "code",
   "execution_count": 50,
   "metadata": {},
   "outputs": [
    {
     "data": {
      "text/plain": [
       "GridSearchCV(cv=KFold(n_splits=10, random_state=None, shuffle=False),\n",
       "             estimator=SVC(),\n",
       "             param_grid={'C': array([1.        , 1.22222222, 1.44444444, 1.66666667, 1.88888889,\n",
       "       2.11111111, 2.33333333, 2.55555556, 2.77777778, 3.        ]),\n",
       "                         'gamma': array([0.1       , 0.31111111, 0.52222222, 0.73333333, 0.94444444,\n",
       "       1.15555556, 1.36666667, 1.57777778, 1.78888889, 2.        ])})"
      ]
     },
     "execution_count": 50,
     "metadata": {},
     "output_type": "execute_result"
    }
   ],
   "source": [
    "param_set = {'C': np.linspace(1, 3, 10), 'gamma' : np.linspace(0.1, 2, 10)}\n",
    "gs = GridSearchCV(SVC(kernel='rbf',decision_function_shape = 'ovr'), param_set , cv = KFold(10))\n",
    "gs.fit(train_X, train_y)"
   ]
  },
  {
   "cell_type": "code",
   "execution_count": 51,
   "metadata": {},
   "outputs": [
    {
     "name": "stdout",
     "output_type": "stream",
     "text": [
      "Best C:  2.333333333333333\n"
     ]
    }
   ],
   "source": [
    "print('Best C: ',gs.best_params_['C'])"
   ]
  },
  {
   "cell_type": "code",
   "execution_count": 52,
   "metadata": {},
   "outputs": [
    {
     "name": "stdout",
     "output_type": "stream",
     "text": [
      "Best gamma:  1.3666666666666667\n"
     ]
    }
   ],
   "source": [
    "print('Best gamma: ',gs.best_params_['gamma'])"
   ]
  },
  {
   "cell_type": "code",
   "execution_count": 53,
   "metadata": {},
   "outputs": [
    {
     "name": "stdout",
     "output_type": "stream",
     "text": [
      "Accuracy : 0.9888837424733673\n",
      "Exact match Loss: 0.0111162575266327\n",
      "Hamming Loss: 0.0111162575266327\n"
     ]
    }
   ],
   "source": [
    "pred_y = gs.predict(test_X)\n",
    "accuracy = accuracy_score(test_y, pred_y)\n",
    "hammingloss = hamming_loss(test_y, pred_y)\n",
    "print('Accuracy :',accuracy)\n",
    "print('Exact match Loss:', 1-accuracy)\n",
    "print('Hamming Loss:', hammingloss)"
   ]
  },
  {
   "cell_type": "markdown",
   "metadata": {},
   "source": [
    "<h3>iii. Repeat 1(b)ii with L1-penalized SVMs.3 Remember to standardize4 the at\n",
    "tributes. Determine the weight of the SVM penalty using 10 fold cross vali-\n",
    "dation."
   ]
  },
  {
   "cell_type": "code",
   "execution_count": 54,
   "metadata": {},
   "outputs": [],
   "source": [
    "s = preprocessing.StandardScaler()\n",
    "train_scaled = s.fit_transform(train_X)\n",
    "test_scaled = s.fit_transform(test_X)"
   ]
  },
  {
   "cell_type": "markdown",
   "metadata": {},
   "source": [
    "<h3>SVM L1-penalized Classification for Family label"
   ]
  },
  {
   "cell_type": "code",
   "execution_count": 55,
   "metadata": {},
   "outputs": [],
   "source": [
    "train_y = train[['Family']]\n",
    "test_y = test[['Family']]"
   ]
  },
  {
   "cell_type": "code",
   "execution_count": 56,
   "metadata": {},
   "outputs": [],
   "source": [
    "param_set = {'C': np.linspace(1, 3, 10)}"
   ]
  },
  {
   "cell_type": "code",
   "execution_count": 57,
   "metadata": {},
   "outputs": [
    {
     "data": {
      "text/plain": [
       "GridSearchCV(cv=KFold(n_splits=10, random_state=None, shuffle=False),\n",
       "             estimator=LinearSVC(dual=False, max_iter=5000, penalty='l1'),\n",
       "             param_grid={'C': array([1.        , 1.22222222, 1.44444444, 1.66666667, 1.88888889,\n",
       "       2.11111111, 2.33333333, 2.55555556, 2.77777778, 3.        ])})"
      ]
     },
     "execution_count": 57,
     "metadata": {},
     "output_type": "execute_result"
    }
   ],
   "source": [
    "linearl1svm = LinearSVC(penalty= 'l1', dual=False, max_iter = 5000)\n",
    "gs = GridSearchCV(linearl1svm, param_set , cv= KFold(10)) \n",
    "gs.fit(train_scaled, train_y)"
   ]
  },
  {
   "cell_type": "code",
   "execution_count": 58,
   "metadata": {},
   "outputs": [
    {
     "name": "stdout",
     "output_type": "stream",
     "text": [
      "Best C:  1.0\n"
     ]
    }
   ],
   "source": [
    "print('Best C: ',gs.best_params_['C'])"
   ]
  },
  {
   "cell_type": "code",
   "execution_count": 59,
   "metadata": {},
   "outputs": [
    {
     "name": "stdout",
     "output_type": "stream",
     "text": [
      "Accuracy : 0.9258916164891153\n",
      "Exact match Loss: 0.07410838351088467\n",
      "Hamming Loss: 0.07410838351088467\n"
     ]
    }
   ],
   "source": [
    "pred_y = gs.predict(test_scaled)\n",
    "accuracy = accuracy_score(test_y, pred_y)\n",
    "hammingloss = hamming_loss(test_y, pred_y)\n",
    "print('Accuracy :',accuracy)\n",
    "print('Exact match Loss:', 1-accuracy)\n",
    "print('Hamming Loss:', hammingloss)"
   ]
  },
  {
   "cell_type": "markdown",
   "metadata": {},
   "source": [
    "<h3>SVM L1-penalized Classification for Genus label"
   ]
  },
  {
   "cell_type": "code",
   "execution_count": 60,
   "metadata": {},
   "outputs": [],
   "source": [
    "train_y = train[['Genus']]\n",
    "test_y = test[['Genus']]"
   ]
  },
  {
   "cell_type": "code",
   "execution_count": 61,
   "metadata": {},
   "outputs": [
    {
     "data": {
      "text/plain": [
       "GridSearchCV(cv=KFold(n_splits=10, random_state=None, shuffle=False),\n",
       "             estimator=LinearSVC(dual=False, max_iter=5000, penalty='l1'),\n",
       "             param_grid={'C': array([1.        , 1.22222222, 1.44444444, 1.66666667, 1.88888889,\n",
       "       2.11111111, 2.33333333, 2.55555556, 2.77777778, 3.        ])})"
      ]
     },
     "execution_count": 61,
     "metadata": {},
     "output_type": "execute_result"
    }
   ],
   "source": [
    "linearl1svm = LinearSVC(penalty= 'l1', dual=False, max_iter = 5000)\n",
    "gs = GridSearchCV(linearl1svm, param_set , cv= KFold(10)) \n",
    "gs.fit(train_scaled, train_y)"
   ]
  },
  {
   "cell_type": "code",
   "execution_count": 62,
   "metadata": {},
   "outputs": [
    {
     "name": "stdout",
     "output_type": "stream",
     "text": [
      "Best C:  1.6666666666666665\n"
     ]
    }
   ],
   "source": [
    "print('Best C: ',gs.best_params_['C'])"
   ]
  },
  {
   "cell_type": "code",
   "execution_count": 63,
   "metadata": {},
   "outputs": [
    {
     "name": "stdout",
     "output_type": "stream",
     "text": [
      "Accuracy : 0.9407132931912923\n",
      "Exact match Loss: 0.059286706808707734\n",
      "Hamming Loss: 0.059286706808707734\n"
     ]
    }
   ],
   "source": [
    "pred_y = gs.predict(test_scaled)\n",
    "accuracy = accuracy_score(test_y, pred_y)\n",
    "hammingloss = hamming_loss(test_y, pred_y)\n",
    "print('Accuracy :',accuracy)\n",
    "print('Exact match Loss:', 1-accuracy)\n",
    "print('Hamming Loss:', hammingloss)"
   ]
  },
  {
   "cell_type": "markdown",
   "metadata": {},
   "source": [
    "<h3>SVM L1-penalized Classification for Species label"
   ]
  },
  {
   "cell_type": "code",
   "execution_count": 64,
   "metadata": {},
   "outputs": [],
   "source": [
    "train_y = train[['Species']]\n",
    "test_y = test[['Species']]"
   ]
  },
  {
   "cell_type": "code",
   "execution_count": 65,
   "metadata": {},
   "outputs": [
    {
     "data": {
      "text/plain": [
       "GridSearchCV(cv=KFold(n_splits=10, random_state=None, shuffle=False),\n",
       "             estimator=LinearSVC(dual=False, max_iter=5000, penalty='l1'),\n",
       "             param_grid={'C': array([1.00000000e-01, 1.83298071e-01, 3.35981829e-01, 6.15848211e-01,\n",
       "       1.12883789e+00, 2.06913808e+00, 3.79269019e+00, 6.95192796e+00,\n",
       "       1.27427499e+01, 2.33572147e+01, 4.28133240e+01, 7.84759970e+01,\n",
       "       1.43844989e+02, 2.63665090e+02, 4.83293024e+02, 8.85866790e+02,\n",
       "       1.62377674e+03, 2.97635144e+03, 5.45559478e+03, 1.00000000e+04])})"
      ]
     },
     "execution_count": 65,
     "metadata": {},
     "output_type": "execute_result"
    }
   ],
   "source": [
    "param_set = {'C': np.logspace(-1, 4, 20)}\n",
    "linearl1svm = LinearSVC(penalty= 'l1', dual=False, max_iter = 5000)\n",
    "gs = GridSearchCV(linearl1svm, param_set , cv= KFold(10)) \n",
    "gs.fit(train_scaled, train_y)"
   ]
  },
  {
   "cell_type": "code",
   "execution_count": 66,
   "metadata": {},
   "outputs": [
    {
     "name": "stdout",
     "output_type": "stream",
     "text": [
      "Best C:  0.6158482110660264\n"
     ]
    }
   ],
   "source": [
    "print('Best C: ',gs.best_params_['C'])"
   ]
  },
  {
   "cell_type": "code",
   "execution_count": 67,
   "metadata": {},
   "outputs": [
    {
     "name": "stdout",
     "output_type": "stream",
     "text": [
      "Accuracy : 0.9467345993515517\n",
      "Exact match Loss: 0.05326540064844831\n",
      "Hamming Loss: 0.053265400648448355\n"
     ]
    }
   ],
   "source": [
    "pred_y = gs.predict(test_scaled)\n",
    "accuracy = accuracy_score(test_y, pred_y)\n",
    "hammingloss = hamming_loss(test_y, pred_y)\n",
    "print('Accuracy :',accuracy)\n",
    "print('Exact match Loss:', 1-accuracy)\n",
    "print('Hamming Loss:', hammingloss)"
   ]
  },
  {
   "cell_type": "markdown",
   "metadata": {},
   "source": [
    "<h3>iv. Repeat 1(b)iii by using SMOTE or any other method you know to remedy\n",
    "class imbalance. Report your conclusions about the classifiers you trained"
   ]
  },
  {
   "cell_type": "code",
   "execution_count": 68,
   "metadata": {},
   "outputs": [],
   "source": [
    "sm = SMOTE()"
   ]
  },
  {
   "cell_type": "code",
   "execution_count": 72,
   "metadata": {},
   "outputs": [],
   "source": [
    "sm_X_family, sm_y_family = sm.fit_resample(train_scaled, train['Family'])\n",
    "sm_X_genus, sm_y_genus = sm.fit_resample(train_scaled, train['Genus'])\n",
    "sm_X_species, sm_y_species = sm.fit_resample(train_scaled, train['Species'])"
   ]
  },
  {
   "cell_type": "markdown",
   "metadata": {},
   "source": [
    "<h3>SMOTE SVM L1-penalized Classification for Family label"
   ]
  },
  {
   "cell_type": "code",
   "execution_count": 73,
   "metadata": {},
   "outputs": [],
   "source": [
    "test_y = test[['Family']]"
   ]
  },
  {
   "cell_type": "code",
   "execution_count": 83,
   "metadata": {},
   "outputs": [
    {
     "data": {
      "text/plain": [
       "GridSearchCV(cv=KFold(n_splits=10, random_state=None, shuffle=False),\n",
       "             estimator=LinearSVC(multi_class='crammer_singer', penalty='l1'),\n",
       "             param_grid={'C': array([1. , 1.5, 2. , 2.5, 3. ])})"
      ]
     },
     "execution_count": 83,
     "metadata": {},
     "output_type": "execute_result"
    }
   ],
   "source": [
    "linearl1svm = LinearSVC(penalty= 'l1', multi_class = 'crammer_singer')\n",
    "gs = GridSearchCV(linearl1svm, param_grid = {'C': np.linspace(1, 3, 5)} , cv= KFold(10)) \n",
    "gs.fit(sm_X_family, sm_y_family)"
   ]
  },
  {
   "cell_type": "code",
   "execution_count": 84,
   "metadata": {},
   "outputs": [
    {
     "name": "stdout",
     "output_type": "stream",
     "text": [
      "Best C:  1.0\n"
     ]
    }
   ],
   "source": [
    "print('Best C: ',gs.best_params_['C'])"
   ]
  },
  {
   "cell_type": "code",
   "execution_count": 85,
   "metadata": {},
   "outputs": [
    {
     "name": "stdout",
     "output_type": "stream",
     "text": [
      "Accuracy : 0.9235757295044001\n",
      "Exact match Loss: 0.07642427049559986\n",
      "Hamming Loss: 0.07642427049559981\n"
     ]
    }
   ],
   "source": [
    "pred_y = gs.predict(test_scaled)\n",
    "accuracy = accuracy_score(test_y, pred_y)\n",
    "hammingloss = hamming_loss(test_y, pred_y)\n",
    "print('Accuracy :',accuracy)\n",
    "print('Exact match Loss:', 1-accuracy)\n",
    "print('Hamming Loss:', hammingloss)"
   ]
  },
  {
   "cell_type": "markdown",
   "metadata": {},
   "source": [
    "<h3>SMOTE SVM L1-penalized Classification for Genus label"
   ]
  },
  {
   "cell_type": "code",
   "execution_count": 86,
   "metadata": {},
   "outputs": [],
   "source": [
    "test_y = test[['Genus']]"
   ]
  },
  {
   "cell_type": "code",
   "execution_count": 87,
   "metadata": {},
   "outputs": [
    {
     "data": {
      "text/plain": [
       "GridSearchCV(cv=KFold(n_splits=10, random_state=None, shuffle=False),\n",
       "             estimator=LinearSVC(multi_class='crammer_singer', penalty='l1'),\n",
       "             param_grid={'C': array([1. , 1.5, 2. , 2.5, 3. ])})"
      ]
     },
     "execution_count": 87,
     "metadata": {},
     "output_type": "execute_result"
    }
   ],
   "source": [
    "linearl1svm = LinearSVC(penalty= 'l1', multi_class = 'crammer_singer')\n",
    "gs = GridSearchCV(linearl1svm, param_grid = {'C': np.linspace(1, 3, 5)} , cv= KFold(10)) \n",
    "gs.fit(sm_X_genus, sm_y_genus)"
   ]
  },
  {
   "cell_type": "code",
   "execution_count": 88,
   "metadata": {},
   "outputs": [
    {
     "name": "stdout",
     "output_type": "stream",
     "text": [
      "Best C:  3.0\n"
     ]
    }
   ],
   "source": [
    "print('Best C: ',gs.best_params_['C'])"
   ]
  },
  {
   "cell_type": "code",
   "execution_count": 89,
   "metadata": {},
   "outputs": [
    {
     "name": "stdout",
     "output_type": "stream",
     "text": [
      "Accuracy : 0.9416396479851783\n",
      "Exact match Loss: 0.058360352014821704\n",
      "Hamming Loss: 0.058360352014821676\n"
     ]
    }
   ],
   "source": [
    "pred_y = gs.predict(test_scaled)\n",
    "accuracy = accuracy_score(test_y, pred_y)\n",
    "hammingloss = hamming_loss(test_y, pred_y)\n",
    "print('Accuracy :',accuracy)\n",
    "print('Exact match Loss:', 1-accuracy)\n",
    "print('Hamming Loss:', hammingloss)"
   ]
  },
  {
   "cell_type": "markdown",
   "metadata": {},
   "source": [
    "<h3>SMOTE SVM L1-penalized Classification for Species label"
   ]
  },
  {
   "cell_type": "code",
   "execution_count": 90,
   "metadata": {},
   "outputs": [],
   "source": [
    "test_y = test[['Species']]"
   ]
  },
  {
   "cell_type": "code",
   "execution_count": 91,
   "metadata": {},
   "outputs": [
    {
     "data": {
      "text/plain": [
       "GridSearchCV(cv=KFold(n_splits=10, random_state=None, shuffle=False),\n",
       "             estimator=LinearSVC(multi_class='crammer_singer', penalty='l1'),\n",
       "             param_grid={'C': array([1. , 1.5, 2. , 2.5, 3. ])})"
      ]
     },
     "execution_count": 91,
     "metadata": {},
     "output_type": "execute_result"
    }
   ],
   "source": [
    "linearl1svm = LinearSVC(penalty= 'l1', multi_class = 'crammer_singer')\n",
    "gs = GridSearchCV(linearl1svm,  param_grid = {'C': np.linspace(1, 3, 5)}  , cv= KFold(10)) \n",
    "gs.fit(sm_X_species, sm_y_species)"
   ]
  },
  {
   "cell_type": "code",
   "execution_count": 92,
   "metadata": {},
   "outputs": [
    {
     "name": "stdout",
     "output_type": "stream",
     "text": [
      "Best C:  3.0\n"
     ]
    }
   ],
   "source": [
    "print('Best C: ',gs.best_params_['C'])"
   ]
  },
  {
   "cell_type": "code",
   "execution_count": 93,
   "metadata": {},
   "outputs": [
    {
     "name": "stdout",
     "output_type": "stream",
     "text": [
      "Accuracy : 0.9615562760537286\n",
      "Exact match Loss: 0.03844372394627138\n",
      "Hamming Loss: 0.03844372394627142\n"
     ]
    }
   ],
   "source": [
    "pred_y = gs.predict(test_scaled)\n",
    "accuracy = accuracy_score(test_y, pred_y)\n",
    "hammingloss = hamming_loss(test_y, pred_y)\n",
    "print('Accuracy :',accuracy)\n",
    "print('Exact match Loss:', 1-accuracy)\n",
    "print('Hamming Loss:', hammingloss)"
   ]
  },
  {
   "cell_type": "markdown",
   "metadata": {},
   "source": [
    "<h3> Based on the above values we can see that normal SVM classification i.e 1b: ii) gives maximum accuracy of arrounf 98% for all labels."
   ]
  },
  {
   "cell_type": "code",
   "execution_count": null,
   "metadata": {},
   "outputs": [],
   "source": []
  },
  {
   "cell_type": "markdown",
   "metadata": {},
   "source": [
    "<h3>2. K-Means Clustering on a Multi-Class and Multi-Label Data Set\n",
    "Monte-Carlo Simulation: Perform the following procedures 50 times, and report\n",
    "the average and standard deviation of the 50 Hamming Distances that you calculate<br>\n",
    "(a) Use k-means clustering on the whole Anuran Calls (MFCCs) Data Set (do not split\n",
    "the data into train and test, as we are not performing supervised learning in this\n",
    "exercise). Choose k ∈ {1, 2, . . . , 50} automatically based on one of the methods\n",
    "provided in the slides (CH or Gap Statistics or scree plots or Silhouettes) or any\n",
    "other method you know."
   ]
  },
  {
   "cell_type": "code",
   "execution_count": 94,
   "metadata": {},
   "outputs": [],
   "source": [
    "df_X = df[l]\n",
    "df_y = df[['Family', 'Genus', 'Species']]\n",
    "\n",
    "result = [['Iteration','Best K value']]"
   ]
  },
  {
   "cell_type": "code",
   "execution_count": 102,
   "metadata": {},
   "outputs": [],
   "source": [
    "import operator"
   ]
  },
  {
   "cell_type": "code",
   "execution_count": 117,
   "metadata": {},
   "outputs": [
    {
     "name": "stdout",
     "output_type": "stream",
     "text": [
      "Iteration:  0\n",
      "Iteration:  1\n",
      "Iteration:  2\n",
      "Iteration:  3\n",
      "Iteration:  4\n",
      "Iteration:  5\n",
      "Iteration:  6\n",
      "Iteration:  7\n",
      "Iteration:  8\n",
      "Iteration:  9\n",
      "Iteration:  10\n",
      "Iteration:  11\n",
      "Iteration:  12\n",
      "Iteration:  13\n",
      "Iteration:  14\n",
      "Iteration:  15\n",
      "Iteration:  16\n",
      "Iteration:  17\n",
      "Iteration:  18\n",
      "Iteration:  19\n",
      "Iteration:  20\n",
      "Iteration:  21\n",
      "Iteration:  22\n",
      "Iteration:  23\n",
      "Iteration:  24\n",
      "Iteration:  25\n",
      "Iteration:  26\n",
      "Iteration:  27\n",
      "Iteration:  28\n",
      "Iteration:  29\n",
      "Iteration:  30\n",
      "Iteration:  31\n",
      "Iteration:  32\n",
      "Iteration:  33\n",
      "Iteration:  34\n",
      "Iteration:  35\n",
      "Iteration:  36\n",
      "Iteration:  37\n",
      "Iteration:  38\n",
      "Iteration:  39\n",
      "Iteration:  40\n",
      "Iteration:  41\n",
      "Iteration:  42\n",
      "Iteration:  43\n",
      "Iteration:  44\n",
      "Iteration:  45\n",
      "Iteration:  46\n",
      "Iteration:  47\n",
      "Iteration:  48\n",
      "Iteration:  49\n"
     ]
    }
   ],
   "source": [
    "i = 0\n",
    "while(i<50):\n",
    "    score = {}\n",
    "    k = 2\n",
    "    while(k<=50):\n",
    "        km = KMeans(n_clusters=k)\n",
    "        km = km.fit(df_X)\n",
    "        score[k] = silhouette_score(df_X, km.labels_)\n",
    "        k+=1\n",
    "    print('Iteration: ',i)    \n",
    "    bestscore = sorted(score.items(), key=operator.itemgetter(1), reverse=True)\n",
    "    #print(bestscore)\n",
    "    bestk = bestscore[0][0]\n",
    "    result.append([i+1,bestk])\n",
    "    i+=1"
   ]
  },
  {
   "cell_type": "code",
   "execution_count": 127,
   "metadata": {
    "scrolled": true
   },
   "outputs": [],
   "source": [
    "resultdf = pd.DataFrame(result[1:],columns=result[0])"
   ]
  },
  {
   "cell_type": "code",
   "execution_count": 128,
   "metadata": {},
   "outputs": [
    {
     "name": "stdout",
     "output_type": "stream",
     "text": [
      "    Iteration  Best K value\n",
      "0           1             4\n",
      "1           2             4\n",
      "2           3             4\n",
      "3           4             4\n",
      "4           5             4\n",
      "5           6             4\n",
      "6           7             4\n",
      "7           8             4\n",
      "8           9             4\n",
      "9          10             4\n",
      "10         11             4\n",
      "11         12             4\n",
      "12         13             4\n",
      "13         14             4\n",
      "14         15             4\n",
      "15         16             4\n",
      "16         17             4\n",
      "17         18             4\n",
      "18         19             4\n",
      "19         20             4\n",
      "20         21             4\n",
      "21         22             4\n",
      "22         23             4\n",
      "23         24             4\n",
      "24         25             4\n",
      "25         26             4\n",
      "26         27             4\n",
      "27         28             4\n",
      "28         29             4\n",
      "29         30             4\n",
      "30         31             4\n",
      "31         32             4\n",
      "32         33             4\n",
      "33         34             4\n",
      "34         35             4\n",
      "35         36             4\n",
      "36         37             4\n",
      "37         38             4\n",
      "38         39             4\n",
      "39         40             4\n",
      "40         41             4\n",
      "41         42             4\n",
      "42         43             4\n",
      "43         44             4\n",
      "44         45             4\n",
      "45         46             4\n",
      "46         47             4\n",
      "47         48             4\n",
      "48         49             4\n",
      "49         50             4\n"
     ]
    }
   ],
   "source": [
    "print(resultdf)"
   ]
  },
  {
   "cell_type": "markdown",
   "metadata": {},
   "source": [
    "<h3>(b) In each cluster, determine which family is the majority by reading the true labels.\n",
    "Repeat for genus and species."
   ]
  },
  {
   "cell_type": "markdown",
   "metadata": {},
   "source": [
    "<h3>(c) Now for each cluster you have a majority label triplet (family, genus, species).\n",
    "Calculate the average Hamming distance, Hamming score, and Hamming loss5\n",
    "between the true labels and the labels assigned by clusters."
   ]
  },
  {
   "cell_type": "markdown",
   "metadata": {},
   "source": [
    "References:\n",
    "https://www.statology.org/hamming-distance-python/\n",
    "https://scikit-learn.org/stable/modules/generated/sklearn.cluster.KMeans.html\n",
    "https://wiki.hasty.ai/metrics/hamming-score#:~:text=Hamming%20Score%20is%20the%20fraction,in%20fact%20they%20are%20interchangeable."
   ]
  },
  {
   "cell_type": "code",
   "execution_count": 129,
   "metadata": {},
   "outputs": [],
   "source": [
    "from scipy.spatial.distance import hamming"
   ]
  },
  {
   "cell_type": "code",
   "execution_count": null,
   "metadata": {},
   "outputs": [],
   "source": [
    "lis = [[1,4]]"
   ]
  },
  {
   "cell_type": "code",
   "execution_count": 144,
   "metadata": {},
   "outputs": [
    {
     "name": "stdout",
     "output_type": "stream",
     "text": [
      "Iteration:\n",
      "1\n",
      "2\n",
      "3\n",
      "4\n",
      "5\n",
      "6\n",
      "7\n",
      "8\n",
      "9\n",
      "10\n",
      "11\n",
      "12\n",
      "13\n",
      "14\n",
      "15\n",
      "16\n",
      "17\n",
      "18\n",
      "19\n",
      "20\n",
      "21\n",
      "22\n",
      "23\n",
      "24\n",
      "25\n",
      "26\n",
      "27\n",
      "28\n",
      "29\n",
      "30\n",
      "31\n",
      "32\n",
      "33\n",
      "34\n",
      "35\n",
      "36\n",
      "37\n",
      "38\n",
      "39\n",
      "40\n",
      "41\n",
      "42\n",
      "43\n",
      "44\n",
      "45\n",
      "46\n",
      "47\n",
      "48\n",
      "49\n",
      "50\n"
     ]
    }
   ],
   "source": [
    "classMajority = [['Iteration','Cluster Number','Family','Genus','Species']]\n",
    "classLoss = [['Iteration','Average_Triplet_Hamming_Loss','Average_Triplet_Hamming_Distance','Average_Triplet_Hamming_Score']]\n",
    "print('Iteration:')\n",
    "for el in result:   \n",
    "    if el[1] != 'Best K value':\n",
    "        print(el[0])\n",
    "        km = KMeans(n_clusters=el[1])\n",
    "        km = km.fit(df_X)\n",
    "        df['k_value'] = km.labels_\n",
    "        k=0\n",
    "        while k < el[1]:\n",
    "            family = df[df.k_value == k]['Family'].value_counts().index[0]  \n",
    "            genus = df[df.k_value == k]['Genus'].value_counts().index[0]\n",
    "            species = df[df.k_value == k]['Species'].value_counts().index[0]\n",
    "            \n",
    "            classMajority.append([el[0],k+1,family,genus,species])\n",
    "            \n",
    "            df.loc[df.k_value == k, 'Cluster_Assigned_Family'] = family\n",
    "            df.loc[df.k_value == k, 'Cluster_Assigned_Genus'] = genus\n",
    "            df.loc[df.k_value == k, 'Cluster_Assigned_Species'] = species\n",
    "            \n",
    "            k+=1\n",
    "            \n",
    "        \n",
    "        lossF = hamming_loss(df['Family'], df['Cluster_Assigned_Family'])\n",
    "        lossG = hamming_loss(df['Genus'], df['Cluster_Assigned_Genus'])\n",
    "        lossS = hamming_loss(df['Species'], df['Cluster_Assigned_Species'])\n",
    "        avg_loss = (lossF + lossG + lossS)/3\n",
    "        \n",
    "        accF = accuracy_score(df['Family'], df['Cluster_Assigned_Family'])\n",
    "        accG = accuracy_score(df['Genus'], df['Cluster_Assigned_Genus'])\n",
    "        accS = accuracy_score(df['Species'], df['Cluster_Assigned_Species'])\n",
    "        avg_acc = (accF + accG + accS)/3\n",
    "        \n",
    "        hamming_dist = 0\n",
    "        for row in range(df.shape[0]):\n",
    "            x = list(df[['Family','Genus','Species']].iloc[row])\n",
    "            y = list(df[['Cluster_Assigned_Family','Cluster_Assigned_Genus','Cluster_Assigned_Species']].iloc[row])\n",
    "            hamming_dist = hamming_dist + hamming(x, y) * len(x)\n",
    "        \n",
    "        avg_hamming_dist = hamming_dist/df.shape[0]\n",
    "        classLoss.append([el[0],avg_loss,avg_hamming_dist,avg_acc])\n",
    "            "
   ]
  },
  {
   "cell_type": "code",
   "execution_count": 145,
   "metadata": {},
   "outputs": [
    {
     "data": {
      "text/html": [
       "<div>\n",
       "<style scoped>\n",
       "    .dataframe tbody tr th:only-of-type {\n",
       "        vertical-align: middle;\n",
       "    }\n",
       "\n",
       "    .dataframe tbody tr th {\n",
       "        vertical-align: top;\n",
       "    }\n",
       "\n",
       "    .dataframe thead th {\n",
       "        text-align: right;\n",
       "    }\n",
       "</style>\n",
       "<table border=\"1\" class=\"dataframe\">\n",
       "  <thead>\n",
       "    <tr style=\"text-align: right;\">\n",
       "      <th></th>\n",
       "      <th>Iteration</th>\n",
       "      <th>Cluster Number</th>\n",
       "      <th>Family</th>\n",
       "      <th>Genus</th>\n",
       "      <th>Species</th>\n",
       "    </tr>\n",
       "  </thead>\n",
       "  <tbody>\n",
       "    <tr>\n",
       "      <th>0</th>\n",
       "      <td>1</td>\n",
       "      <td>1</td>\n",
       "      <td>Leptodactylidae</td>\n",
       "      <td>Adenomera</td>\n",
       "      <td>AdenomeraHylaedactylus</td>\n",
       "    </tr>\n",
       "    <tr>\n",
       "      <th>1</th>\n",
       "      <td>1</td>\n",
       "      <td>2</td>\n",
       "      <td>Hylidae</td>\n",
       "      <td>Hypsiboas</td>\n",
       "      <td>HypsiboasCinerascens</td>\n",
       "    </tr>\n",
       "    <tr>\n",
       "      <th>2</th>\n",
       "      <td>1</td>\n",
       "      <td>3</td>\n",
       "      <td>Hylidae</td>\n",
       "      <td>Hypsiboas</td>\n",
       "      <td>HypsiboasCordobae</td>\n",
       "    </tr>\n",
       "    <tr>\n",
       "      <th>3</th>\n",
       "      <td>1</td>\n",
       "      <td>4</td>\n",
       "      <td>Dendrobatidae</td>\n",
       "      <td>Ameerega</td>\n",
       "      <td>Ameeregatrivittata</td>\n",
       "    </tr>\n",
       "    <tr>\n",
       "      <th>4</th>\n",
       "      <td>2</td>\n",
       "      <td>1</td>\n",
       "      <td>Hylidae</td>\n",
       "      <td>Hypsiboas</td>\n",
       "      <td>HypsiboasCordobae</td>\n",
       "    </tr>\n",
       "    <tr>\n",
       "      <th>...</th>\n",
       "      <td>...</td>\n",
       "      <td>...</td>\n",
       "      <td>...</td>\n",
       "      <td>...</td>\n",
       "      <td>...</td>\n",
       "    </tr>\n",
       "    <tr>\n",
       "      <th>195</th>\n",
       "      <td>49</td>\n",
       "      <td>4</td>\n",
       "      <td>Hylidae</td>\n",
       "      <td>Hypsiboas</td>\n",
       "      <td>HypsiboasCinerascens</td>\n",
       "    </tr>\n",
       "    <tr>\n",
       "      <th>196</th>\n",
       "      <td>50</td>\n",
       "      <td>1</td>\n",
       "      <td>Leptodactylidae</td>\n",
       "      <td>Adenomera</td>\n",
       "      <td>AdenomeraHylaedactylus</td>\n",
       "    </tr>\n",
       "    <tr>\n",
       "      <th>197</th>\n",
       "      <td>50</td>\n",
       "      <td>2</td>\n",
       "      <td>Hylidae</td>\n",
       "      <td>Hypsiboas</td>\n",
       "      <td>HypsiboasCordobae</td>\n",
       "    </tr>\n",
       "    <tr>\n",
       "      <th>198</th>\n",
       "      <td>50</td>\n",
       "      <td>3</td>\n",
       "      <td>Hylidae</td>\n",
       "      <td>Hypsiboas</td>\n",
       "      <td>HypsiboasCinerascens</td>\n",
       "    </tr>\n",
       "    <tr>\n",
       "      <th>199</th>\n",
       "      <td>50</td>\n",
       "      <td>4</td>\n",
       "      <td>Dendrobatidae</td>\n",
       "      <td>Ameerega</td>\n",
       "      <td>Ameeregatrivittata</td>\n",
       "    </tr>\n",
       "  </tbody>\n",
       "</table>\n",
       "<p>200 rows × 5 columns</p>\n",
       "</div>"
      ],
      "text/plain": [
       "     Iteration  Cluster Number           Family      Genus  \\\n",
       "0            1               1  Leptodactylidae  Adenomera   \n",
       "1            1               2          Hylidae  Hypsiboas   \n",
       "2            1               3          Hylidae  Hypsiboas   \n",
       "3            1               4    Dendrobatidae   Ameerega   \n",
       "4            2               1          Hylidae  Hypsiboas   \n",
       "..         ...             ...              ...        ...   \n",
       "195         49               4          Hylidae  Hypsiboas   \n",
       "196         50               1  Leptodactylidae  Adenomera   \n",
       "197         50               2          Hylidae  Hypsiboas   \n",
       "198         50               3          Hylidae  Hypsiboas   \n",
       "199         50               4    Dendrobatidae   Ameerega   \n",
       "\n",
       "                    Species  \n",
       "0    AdenomeraHylaedactylus  \n",
       "1      HypsiboasCinerascens  \n",
       "2         HypsiboasCordobae  \n",
       "3        Ameeregatrivittata  \n",
       "4         HypsiboasCordobae  \n",
       "..                      ...  \n",
       "195    HypsiboasCinerascens  \n",
       "196  AdenomeraHylaedactylus  \n",
       "197       HypsiboasCordobae  \n",
       "198    HypsiboasCinerascens  \n",
       "199      Ameeregatrivittata  \n",
       "\n",
       "[200 rows x 5 columns]"
      ]
     },
     "execution_count": 145,
     "metadata": {},
     "output_type": "execute_result"
    }
   ],
   "source": [
    "classMajoritydf = pd.DataFrame(classMajority[1:],columns=classMajority[0])\n",
    "classMajoritydf"
   ]
  },
  {
   "cell_type": "code",
   "execution_count": 146,
   "metadata": {},
   "outputs": [
    {
     "data": {
      "text/html": [
       "<div>\n",
       "<style scoped>\n",
       "    .dataframe tbody tr th:only-of-type {\n",
       "        vertical-align: middle;\n",
       "    }\n",
       "\n",
       "    .dataframe tbody tr th {\n",
       "        vertical-align: top;\n",
       "    }\n",
       "\n",
       "    .dataframe thead th {\n",
       "        text-align: right;\n",
       "    }\n",
       "</style>\n",
       "<table border=\"1\" class=\"dataframe\">\n",
       "  <thead>\n",
       "    <tr style=\"text-align: right;\">\n",
       "      <th></th>\n",
       "      <th>Iteration</th>\n",
       "      <th>Average_Triplet_Hamming_Loss</th>\n",
       "      <th>Average_Triplet_Hamming_Distance</th>\n",
       "      <th>Average_Triplet_Hamming_Score</th>\n",
       "    </tr>\n",
       "  </thead>\n",
       "  <tbody>\n",
       "    <tr>\n",
       "      <th>0</th>\n",
       "      <td>1</td>\n",
       "      <td>0.222423</td>\n",
       "      <td>0.667269</td>\n",
       "      <td>0.777577</td>\n",
       "    </tr>\n",
       "    <tr>\n",
       "      <th>1</th>\n",
       "      <td>2</td>\n",
       "      <td>0.222469</td>\n",
       "      <td>0.667408</td>\n",
       "      <td>0.777531</td>\n",
       "    </tr>\n",
       "    <tr>\n",
       "      <th>2</th>\n",
       "      <td>3</td>\n",
       "      <td>0.222423</td>\n",
       "      <td>0.667269</td>\n",
       "      <td>0.777577</td>\n",
       "    </tr>\n",
       "    <tr>\n",
       "      <th>3</th>\n",
       "      <td>4</td>\n",
       "      <td>0.221913</td>\n",
       "      <td>0.665740</td>\n",
       "      <td>0.778087</td>\n",
       "    </tr>\n",
       "    <tr>\n",
       "      <th>4</th>\n",
       "      <td>5</td>\n",
       "      <td>0.222145</td>\n",
       "      <td>0.666435</td>\n",
       "      <td>0.777855</td>\n",
       "    </tr>\n",
       "    <tr>\n",
       "      <th>5</th>\n",
       "      <td>6</td>\n",
       "      <td>0.222423</td>\n",
       "      <td>0.667269</td>\n",
       "      <td>0.777577</td>\n",
       "    </tr>\n",
       "    <tr>\n",
       "      <th>6</th>\n",
       "      <td>7</td>\n",
       "      <td>0.222423</td>\n",
       "      <td>0.667269</td>\n",
       "      <td>0.777577</td>\n",
       "    </tr>\n",
       "    <tr>\n",
       "      <th>7</th>\n",
       "      <td>8</td>\n",
       "      <td>0.222423</td>\n",
       "      <td>0.667269</td>\n",
       "      <td>0.777577</td>\n",
       "    </tr>\n",
       "    <tr>\n",
       "      <th>8</th>\n",
       "      <td>9</td>\n",
       "      <td>0.221774</td>\n",
       "      <td>0.665323</td>\n",
       "      <td>0.778226</td>\n",
       "    </tr>\n",
       "    <tr>\n",
       "      <th>9</th>\n",
       "      <td>10</td>\n",
       "      <td>0.222423</td>\n",
       "      <td>0.667269</td>\n",
       "      <td>0.777577</td>\n",
       "    </tr>\n",
       "    <tr>\n",
       "      <th>10</th>\n",
       "      <td>11</td>\n",
       "      <td>0.222423</td>\n",
       "      <td>0.667269</td>\n",
       "      <td>0.777577</td>\n",
       "    </tr>\n",
       "    <tr>\n",
       "      <th>11</th>\n",
       "      <td>12</td>\n",
       "      <td>0.222469</td>\n",
       "      <td>0.667408</td>\n",
       "      <td>0.777531</td>\n",
       "    </tr>\n",
       "    <tr>\n",
       "      <th>12</th>\n",
       "      <td>13</td>\n",
       "      <td>0.222423</td>\n",
       "      <td>0.667269</td>\n",
       "      <td>0.777577</td>\n",
       "    </tr>\n",
       "    <tr>\n",
       "      <th>13</th>\n",
       "      <td>14</td>\n",
       "      <td>0.221913</td>\n",
       "      <td>0.665740</td>\n",
       "      <td>0.778087</td>\n",
       "    </tr>\n",
       "    <tr>\n",
       "      <th>14</th>\n",
       "      <td>15</td>\n",
       "      <td>0.222423</td>\n",
       "      <td>0.667269</td>\n",
       "      <td>0.777577</td>\n",
       "    </tr>\n",
       "    <tr>\n",
       "      <th>15</th>\n",
       "      <td>16</td>\n",
       "      <td>0.222423</td>\n",
       "      <td>0.667269</td>\n",
       "      <td>0.777577</td>\n",
       "    </tr>\n",
       "    <tr>\n",
       "      <th>16</th>\n",
       "      <td>17</td>\n",
       "      <td>0.222423</td>\n",
       "      <td>0.667269</td>\n",
       "      <td>0.777577</td>\n",
       "    </tr>\n",
       "    <tr>\n",
       "      <th>17</th>\n",
       "      <td>18</td>\n",
       "      <td>0.222423</td>\n",
       "      <td>0.667269</td>\n",
       "      <td>0.777577</td>\n",
       "    </tr>\n",
       "    <tr>\n",
       "      <th>18</th>\n",
       "      <td>19</td>\n",
       "      <td>0.222423</td>\n",
       "      <td>0.667269</td>\n",
       "      <td>0.777577</td>\n",
       "    </tr>\n",
       "    <tr>\n",
       "      <th>19</th>\n",
       "      <td>20</td>\n",
       "      <td>0.222423</td>\n",
       "      <td>0.667269</td>\n",
       "      <td>0.777577</td>\n",
       "    </tr>\n",
       "    <tr>\n",
       "      <th>20</th>\n",
       "      <td>21</td>\n",
       "      <td>0.222284</td>\n",
       "      <td>0.666852</td>\n",
       "      <td>0.777716</td>\n",
       "    </tr>\n",
       "    <tr>\n",
       "      <th>21</th>\n",
       "      <td>22</td>\n",
       "      <td>0.222423</td>\n",
       "      <td>0.667269</td>\n",
       "      <td>0.777577</td>\n",
       "    </tr>\n",
       "    <tr>\n",
       "      <th>22</th>\n",
       "      <td>23</td>\n",
       "      <td>0.222423</td>\n",
       "      <td>0.667269</td>\n",
       "      <td>0.777577</td>\n",
       "    </tr>\n",
       "    <tr>\n",
       "      <th>23</th>\n",
       "      <td>24</td>\n",
       "      <td>0.245263</td>\n",
       "      <td>0.735789</td>\n",
       "      <td>0.754737</td>\n",
       "    </tr>\n",
       "    <tr>\n",
       "      <th>24</th>\n",
       "      <td>25</td>\n",
       "      <td>0.233727</td>\n",
       "      <td>0.701181</td>\n",
       "      <td>0.766273</td>\n",
       "    </tr>\n",
       "    <tr>\n",
       "      <th>25</th>\n",
       "      <td>26</td>\n",
       "      <td>0.245263</td>\n",
       "      <td>0.735789</td>\n",
       "      <td>0.754737</td>\n",
       "    </tr>\n",
       "    <tr>\n",
       "      <th>26</th>\n",
       "      <td>27</td>\n",
       "      <td>0.221913</td>\n",
       "      <td>0.665740</td>\n",
       "      <td>0.778087</td>\n",
       "    </tr>\n",
       "    <tr>\n",
       "      <th>27</th>\n",
       "      <td>28</td>\n",
       "      <td>0.221774</td>\n",
       "      <td>0.665323</td>\n",
       "      <td>0.778226</td>\n",
       "    </tr>\n",
       "    <tr>\n",
       "      <th>28</th>\n",
       "      <td>29</td>\n",
       "      <td>0.222423</td>\n",
       "      <td>0.667269</td>\n",
       "      <td>0.777577</td>\n",
       "    </tr>\n",
       "    <tr>\n",
       "      <th>29</th>\n",
       "      <td>30</td>\n",
       "      <td>0.221774</td>\n",
       "      <td>0.665323</td>\n",
       "      <td>0.778226</td>\n",
       "    </tr>\n",
       "    <tr>\n",
       "      <th>30</th>\n",
       "      <td>31</td>\n",
       "      <td>0.222423</td>\n",
       "      <td>0.667269</td>\n",
       "      <td>0.777577</td>\n",
       "    </tr>\n",
       "    <tr>\n",
       "      <th>31</th>\n",
       "      <td>32</td>\n",
       "      <td>0.222423</td>\n",
       "      <td>0.667269</td>\n",
       "      <td>0.777577</td>\n",
       "    </tr>\n",
       "    <tr>\n",
       "      <th>32</th>\n",
       "      <td>33</td>\n",
       "      <td>0.222423</td>\n",
       "      <td>0.667269</td>\n",
       "      <td>0.777577</td>\n",
       "    </tr>\n",
       "    <tr>\n",
       "      <th>33</th>\n",
       "      <td>34</td>\n",
       "      <td>0.222145</td>\n",
       "      <td>0.666435</td>\n",
       "      <td>0.777855</td>\n",
       "    </tr>\n",
       "    <tr>\n",
       "      <th>34</th>\n",
       "      <td>35</td>\n",
       "      <td>0.222423</td>\n",
       "      <td>0.667269</td>\n",
       "      <td>0.777577</td>\n",
       "    </tr>\n",
       "    <tr>\n",
       "      <th>35</th>\n",
       "      <td>36</td>\n",
       "      <td>0.222423</td>\n",
       "      <td>0.667269</td>\n",
       "      <td>0.777577</td>\n",
       "    </tr>\n",
       "    <tr>\n",
       "      <th>36</th>\n",
       "      <td>37</td>\n",
       "      <td>0.222423</td>\n",
       "      <td>0.667269</td>\n",
       "      <td>0.777577</td>\n",
       "    </tr>\n",
       "    <tr>\n",
       "      <th>37</th>\n",
       "      <td>38</td>\n",
       "      <td>0.234051</td>\n",
       "      <td>0.702154</td>\n",
       "      <td>0.765949</td>\n",
       "    </tr>\n",
       "    <tr>\n",
       "      <th>38</th>\n",
       "      <td>39</td>\n",
       "      <td>0.222423</td>\n",
       "      <td>0.667269</td>\n",
       "      <td>0.777577</td>\n",
       "    </tr>\n",
       "    <tr>\n",
       "      <th>39</th>\n",
       "      <td>40</td>\n",
       "      <td>0.222469</td>\n",
       "      <td>0.667408</td>\n",
       "      <td>0.777531</td>\n",
       "    </tr>\n",
       "    <tr>\n",
       "      <th>40</th>\n",
       "      <td>41</td>\n",
       "      <td>0.222423</td>\n",
       "      <td>0.667269</td>\n",
       "      <td>0.777577</td>\n",
       "    </tr>\n",
       "    <tr>\n",
       "      <th>41</th>\n",
       "      <td>42</td>\n",
       "      <td>0.222423</td>\n",
       "      <td>0.667269</td>\n",
       "      <td>0.777577</td>\n",
       "    </tr>\n",
       "    <tr>\n",
       "      <th>42</th>\n",
       "      <td>43</td>\n",
       "      <td>0.222423</td>\n",
       "      <td>0.667269</td>\n",
       "      <td>0.777577</td>\n",
       "    </tr>\n",
       "    <tr>\n",
       "      <th>43</th>\n",
       "      <td>44</td>\n",
       "      <td>0.222423</td>\n",
       "      <td>0.667269</td>\n",
       "      <td>0.777577</td>\n",
       "    </tr>\n",
       "    <tr>\n",
       "      <th>44</th>\n",
       "      <td>45</td>\n",
       "      <td>0.222330</td>\n",
       "      <td>0.666991</td>\n",
       "      <td>0.777670</td>\n",
       "    </tr>\n",
       "    <tr>\n",
       "      <th>45</th>\n",
       "      <td>46</td>\n",
       "      <td>0.222423</td>\n",
       "      <td>0.667269</td>\n",
       "      <td>0.777577</td>\n",
       "    </tr>\n",
       "    <tr>\n",
       "      <th>46</th>\n",
       "      <td>47</td>\n",
       "      <td>0.222145</td>\n",
       "      <td>0.666435</td>\n",
       "      <td>0.777855</td>\n",
       "    </tr>\n",
       "    <tr>\n",
       "      <th>47</th>\n",
       "      <td>48</td>\n",
       "      <td>0.233403</td>\n",
       "      <td>0.700208</td>\n",
       "      <td>0.766597</td>\n",
       "    </tr>\n",
       "    <tr>\n",
       "      <th>48</th>\n",
       "      <td>49</td>\n",
       "      <td>0.222423</td>\n",
       "      <td>0.667269</td>\n",
       "      <td>0.777577</td>\n",
       "    </tr>\n",
       "    <tr>\n",
       "      <th>49</th>\n",
       "      <td>50</td>\n",
       "      <td>0.222423</td>\n",
       "      <td>0.667269</td>\n",
       "      <td>0.777577</td>\n",
       "    </tr>\n",
       "  </tbody>\n",
       "</table>\n",
       "</div>"
      ],
      "text/plain": [
       "    Iteration  Average_Triplet_Hamming_Loss  Average_Triplet_Hamming_Distance  \\\n",
       "0           1                      0.222423                          0.667269   \n",
       "1           2                      0.222469                          0.667408   \n",
       "2           3                      0.222423                          0.667269   \n",
       "3           4                      0.221913                          0.665740   \n",
       "4           5                      0.222145                          0.666435   \n",
       "5           6                      0.222423                          0.667269   \n",
       "6           7                      0.222423                          0.667269   \n",
       "7           8                      0.222423                          0.667269   \n",
       "8           9                      0.221774                          0.665323   \n",
       "9          10                      0.222423                          0.667269   \n",
       "10         11                      0.222423                          0.667269   \n",
       "11         12                      0.222469                          0.667408   \n",
       "12         13                      0.222423                          0.667269   \n",
       "13         14                      0.221913                          0.665740   \n",
       "14         15                      0.222423                          0.667269   \n",
       "15         16                      0.222423                          0.667269   \n",
       "16         17                      0.222423                          0.667269   \n",
       "17         18                      0.222423                          0.667269   \n",
       "18         19                      0.222423                          0.667269   \n",
       "19         20                      0.222423                          0.667269   \n",
       "20         21                      0.222284                          0.666852   \n",
       "21         22                      0.222423                          0.667269   \n",
       "22         23                      0.222423                          0.667269   \n",
       "23         24                      0.245263                          0.735789   \n",
       "24         25                      0.233727                          0.701181   \n",
       "25         26                      0.245263                          0.735789   \n",
       "26         27                      0.221913                          0.665740   \n",
       "27         28                      0.221774                          0.665323   \n",
       "28         29                      0.222423                          0.667269   \n",
       "29         30                      0.221774                          0.665323   \n",
       "30         31                      0.222423                          0.667269   \n",
       "31         32                      0.222423                          0.667269   \n",
       "32         33                      0.222423                          0.667269   \n",
       "33         34                      0.222145                          0.666435   \n",
       "34         35                      0.222423                          0.667269   \n",
       "35         36                      0.222423                          0.667269   \n",
       "36         37                      0.222423                          0.667269   \n",
       "37         38                      0.234051                          0.702154   \n",
       "38         39                      0.222423                          0.667269   \n",
       "39         40                      0.222469                          0.667408   \n",
       "40         41                      0.222423                          0.667269   \n",
       "41         42                      0.222423                          0.667269   \n",
       "42         43                      0.222423                          0.667269   \n",
       "43         44                      0.222423                          0.667269   \n",
       "44         45                      0.222330                          0.666991   \n",
       "45         46                      0.222423                          0.667269   \n",
       "46         47                      0.222145                          0.666435   \n",
       "47         48                      0.233403                          0.700208   \n",
       "48         49                      0.222423                          0.667269   \n",
       "49         50                      0.222423                          0.667269   \n",
       "\n",
       "    Average_Triplet_Hamming_Score  \n",
       "0                        0.777577  \n",
       "1                        0.777531  \n",
       "2                        0.777577  \n",
       "3                        0.778087  \n",
       "4                        0.777855  \n",
       "5                        0.777577  \n",
       "6                        0.777577  \n",
       "7                        0.777577  \n",
       "8                        0.778226  \n",
       "9                        0.777577  \n",
       "10                       0.777577  \n",
       "11                       0.777531  \n",
       "12                       0.777577  \n",
       "13                       0.778087  \n",
       "14                       0.777577  \n",
       "15                       0.777577  \n",
       "16                       0.777577  \n",
       "17                       0.777577  \n",
       "18                       0.777577  \n",
       "19                       0.777577  \n",
       "20                       0.777716  \n",
       "21                       0.777577  \n",
       "22                       0.777577  \n",
       "23                       0.754737  \n",
       "24                       0.766273  \n",
       "25                       0.754737  \n",
       "26                       0.778087  \n",
       "27                       0.778226  \n",
       "28                       0.777577  \n",
       "29                       0.778226  \n",
       "30                       0.777577  \n",
       "31                       0.777577  \n",
       "32                       0.777577  \n",
       "33                       0.777855  \n",
       "34                       0.777577  \n",
       "35                       0.777577  \n",
       "36                       0.777577  \n",
       "37                       0.765949  \n",
       "38                       0.777577  \n",
       "39                       0.777531  \n",
       "40                       0.777577  \n",
       "41                       0.777577  \n",
       "42                       0.777577  \n",
       "43                       0.777577  \n",
       "44                       0.777670  \n",
       "45                       0.777577  \n",
       "46                       0.777855  \n",
       "47                       0.766597  \n",
       "48                       0.777577  \n",
       "49                       0.777577  "
      ]
     },
     "execution_count": 146,
     "metadata": {},
     "output_type": "execute_result"
    }
   ],
   "source": [
    "classLossdf = pd.DataFrame(classLoss[1:],columns=classLoss[0])\n",
    "classLossdf"
   ]
  },
  {
   "cell_type": "code",
   "execution_count": 147,
   "metadata": {},
   "outputs": [
    {
     "name": "stdout",
     "output_type": "stream",
     "text": [
      "Final Average Hamming Distance 0.6717804030576788\n",
      "Final Standard Deviation of Hamming Distance 0.015391608384660126\n"
     ]
    }
   ],
   "source": [
    "hammingdistance = classLossdf['Average_Triplet_Hamming_Distance'].to_numpy()\n",
    "print('Final Average Hamming Distance',np.mean(hammingdistance))\n",
    "print('Final Standard Deviation of Hamming Distance',np.std(hammingdistance))"
   ]
  },
  {
   "cell_type": "markdown",
   "metadata": {},
   "source": [
    "<h3>3. ISLR 12.6.2"
   ]
  },
  {
   "cell_type": "markdown",
   "metadata": {},
   "source": [
    "<h4> Answers are attached in a pdf and uploaded under notebook directory"
   ]
  },
  {
   "cell_type": "code",
   "execution_count": null,
   "metadata": {},
   "outputs": [],
   "source": []
  }
 ],
 "metadata": {
  "kernelspec": {
   "display_name": "Python 3",
   "language": "python",
   "name": "python3"
  },
  "language_info": {
   "codemirror_mode": {
    "name": "ipython",
    "version": 3
   },
   "file_extension": ".py",
   "mimetype": "text/x-python",
   "name": "python",
   "nbconvert_exporter": "python",
   "pygments_lexer": "ipython3",
   "version": "3.8.5"
  }
 },
 "nbformat": 4,
 "nbformat_minor": 4
}
